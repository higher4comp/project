{
  "nbformat": 4,
  "nbformat_minor": 0,
  "metadata": {
    "colab": {
      "name": "Untitled1.ipynb",
      "provenance": [],
      "collapsed_sections": []
    },
    "kernelspec": {
      "name": "python3",
      "display_name": "Python 3"
    },
    "language_info": {
      "name": "python"
    },
    "accelerator": "GPU",
    "gpuClass": "standard"
  },
  "cells": [
    {
      "cell_type": "code",
      "execution_count": 1,
      "metadata": {
        "id": "PGzdZJCriGNh",
        "colab": {
          "base_uri": "https://localhost:8080/"
        },
        "outputId": "9f407c99-b6b0-412d-c6d0-f1738715c44b"
      },
      "outputs": [
        {
          "output_type": "stream",
          "name": "stdout",
          "text": [
            "Mounted at /content/drive\n"
          ]
        }
      ],
      "source": [
        "from google.colab import drive\n",
        "drive.mount('/content/drive')"
      ]
    },
    {
      "cell_type": "code",
      "source": [
        "! pip install spacy_transformers\n",
        "! pip install -U spacy"
      ],
      "metadata": {
        "colab": {
          "base_uri": "https://localhost:8080/"
        },
        "id": "xgWXzPTmvlZ2",
        "outputId": "4c86bdd4-597f-48ef-94e0-03de3a295239"
      },
      "execution_count": 2,
      "outputs": [
        {
          "output_type": "stream",
          "name": "stdout",
          "text": [
            "Looking in indexes: https://pypi.org/simple, https://us-python.pkg.dev/colab-wheels/public/simple/\n",
            "Collecting spacy_transformers\n",
            "  Downloading spacy_transformers-1.1.7-py2.py3-none-any.whl (53 kB)\n",
            "\u001b[K     |████████████████████████████████| 53 kB 2.6 MB/s \n",
            "\u001b[?25hRequirement already satisfied: spacy<4.0.0,>=3.1.3 in /usr/local/lib/python3.7/dist-packages (from spacy_transformers) (3.4.1)\n",
            "Collecting spacy-alignments<1.0.0,>=0.7.2\n",
            "  Downloading spacy_alignments-0.8.5-cp37-cp37m-manylinux_2_17_x86_64.manylinux2014_x86_64.whl (1.1 MB)\n",
            "\u001b[K     |████████████████████████████████| 1.1 MB 62.0 MB/s \n",
            "\u001b[?25hRequirement already satisfied: srsly<3.0.0,>=2.4.0 in /usr/local/lib/python3.7/dist-packages (from spacy_transformers) (2.4.4)\n",
            "Requirement already satisfied: torch>=1.6.0 in /usr/local/lib/python3.7/dist-packages (from spacy_transformers) (1.12.0+cu113)\n",
            "Collecting transformers<4.21.0,>=3.4.0\n",
            "  Downloading transformers-4.20.1-py3-none-any.whl (4.4 MB)\n",
            "\u001b[K     |████████████████████████████████| 4.4 MB 58.6 MB/s \n",
            "\u001b[?25hRequirement already satisfied: cymem<2.1.0,>=2.0.2 in /usr/local/lib/python3.7/dist-packages (from spacy<4.0.0,>=3.1.3->spacy_transformers) (2.0.6)\n",
            "Requirement already satisfied: tqdm<5.0.0,>=4.38.0 in /usr/local/lib/python3.7/dist-packages (from spacy<4.0.0,>=3.1.3->spacy_transformers) (4.64.0)\n",
            "Requirement already satisfied: packaging>=20.0 in /usr/local/lib/python3.7/dist-packages (from spacy<4.0.0,>=3.1.3->spacy_transformers) (21.3)\n",
            "Requirement already satisfied: murmurhash<1.1.0,>=0.28.0 in /usr/local/lib/python3.7/dist-packages (from spacy<4.0.0,>=3.1.3->spacy_transformers) (1.0.7)\n",
            "Requirement already satisfied: pydantic!=1.8,!=1.8.1,<1.10.0,>=1.7.4 in /usr/local/lib/python3.7/dist-packages (from spacy<4.0.0,>=3.1.3->spacy_transformers) (1.9.1)\n",
            "Requirement already satisfied: langcodes<4.0.0,>=3.2.0 in /usr/local/lib/python3.7/dist-packages (from spacy<4.0.0,>=3.1.3->spacy_transformers) (3.3.0)\n",
            "Requirement already satisfied: catalogue<2.1.0,>=2.0.6 in /usr/local/lib/python3.7/dist-packages (from spacy<4.0.0,>=3.1.3->spacy_transformers) (2.0.8)\n",
            "Requirement already satisfied: pathy>=0.3.5 in /usr/local/lib/python3.7/dist-packages (from spacy<4.0.0,>=3.1.3->spacy_transformers) (0.6.2)\n",
            "Requirement already satisfied: setuptools in /usr/local/lib/python3.7/dist-packages (from spacy<4.0.0,>=3.1.3->spacy_transformers) (57.4.0)\n",
            "Requirement already satisfied: thinc<8.2.0,>=8.1.0 in /usr/local/lib/python3.7/dist-packages (from spacy<4.0.0,>=3.1.3->spacy_transformers) (8.1.0)\n",
            "Requirement already satisfied: jinja2 in /usr/local/lib/python3.7/dist-packages (from spacy<4.0.0,>=3.1.3->spacy_transformers) (2.11.3)\n",
            "Requirement already satisfied: numpy>=1.15.0 in /usr/local/lib/python3.7/dist-packages (from spacy<4.0.0,>=3.1.3->spacy_transformers) (1.21.6)\n",
            "Requirement already satisfied: typer<0.5.0,>=0.3.0 in /usr/local/lib/python3.7/dist-packages (from spacy<4.0.0,>=3.1.3->spacy_transformers) (0.4.2)\n",
            "Requirement already satisfied: spacy-loggers<2.0.0,>=1.0.0 in /usr/local/lib/python3.7/dist-packages (from spacy<4.0.0,>=3.1.3->spacy_transformers) (1.0.3)\n",
            "Requirement already satisfied: requests<3.0.0,>=2.13.0 in /usr/local/lib/python3.7/dist-packages (from spacy<4.0.0,>=3.1.3->spacy_transformers) (2.23.0)\n",
            "Requirement already satisfied: wasabi<1.1.0,>=0.9.1 in /usr/local/lib/python3.7/dist-packages (from spacy<4.0.0,>=3.1.3->spacy_transformers) (0.10.1)\n",
            "Requirement already satisfied: spacy-legacy<3.1.0,>=3.0.9 in /usr/local/lib/python3.7/dist-packages (from spacy<4.0.0,>=3.1.3->spacy_transformers) (3.0.9)\n",
            "Requirement already satisfied: typing-extensions<4.2.0,>=3.7.4 in /usr/local/lib/python3.7/dist-packages (from spacy<4.0.0,>=3.1.3->spacy_transformers) (4.1.1)\n",
            "Requirement already satisfied: preshed<3.1.0,>=3.0.2 in /usr/local/lib/python3.7/dist-packages (from spacy<4.0.0,>=3.1.3->spacy_transformers) (3.0.6)\n",
            "Requirement already satisfied: zipp>=0.5 in /usr/local/lib/python3.7/dist-packages (from catalogue<2.1.0,>=2.0.6->spacy<4.0.0,>=3.1.3->spacy_transformers) (3.8.1)\n",
            "Requirement already satisfied: pyparsing!=3.0.5,>=2.0.2 in /usr/local/lib/python3.7/dist-packages (from packaging>=20.0->spacy<4.0.0,>=3.1.3->spacy_transformers) (3.0.9)\n",
            "Requirement already satisfied: smart-open<6.0.0,>=5.2.1 in /usr/local/lib/python3.7/dist-packages (from pathy>=0.3.5->spacy<4.0.0,>=3.1.3->spacy_transformers) (5.2.1)\n",
            "Requirement already satisfied: idna<3,>=2.5 in /usr/local/lib/python3.7/dist-packages (from requests<3.0.0,>=2.13.0->spacy<4.0.0,>=3.1.3->spacy_transformers) (2.10)\n",
            "Requirement already satisfied: chardet<4,>=3.0.2 in /usr/local/lib/python3.7/dist-packages (from requests<3.0.0,>=2.13.0->spacy<4.0.0,>=3.1.3->spacy_transformers) (3.0.4)\n",
            "Requirement already satisfied: urllib3!=1.25.0,!=1.25.1,<1.26,>=1.21.1 in /usr/local/lib/python3.7/dist-packages (from requests<3.0.0,>=2.13.0->spacy<4.0.0,>=3.1.3->spacy_transformers) (1.24.3)\n",
            "Requirement already satisfied: certifi>=2017.4.17 in /usr/local/lib/python3.7/dist-packages (from requests<3.0.0,>=2.13.0->spacy<4.0.0,>=3.1.3->spacy_transformers) (2022.6.15)\n",
            "Requirement already satisfied: blis<0.8.0,>=0.7.8 in /usr/local/lib/python3.7/dist-packages (from thinc<8.2.0,>=8.1.0->spacy<4.0.0,>=3.1.3->spacy_transformers) (0.7.8)\n",
            "Requirement already satisfied: importlib-metadata in /usr/local/lib/python3.7/dist-packages (from transformers<4.21.0,>=3.4.0->spacy_transformers) (4.12.0)\n",
            "Collecting huggingface-hub<1.0,>=0.1.0\n",
            "  Downloading huggingface_hub-0.8.1-py3-none-any.whl (101 kB)\n",
            "\u001b[K     |████████████████████████████████| 101 kB 13.1 MB/s \n",
            "\u001b[?25hRequirement already satisfied: filelock in /usr/local/lib/python3.7/dist-packages (from transformers<4.21.0,>=3.4.0->spacy_transformers) (3.7.1)\n",
            "Collecting pyyaml>=5.1\n",
            "  Downloading PyYAML-6.0-cp37-cp37m-manylinux_2_5_x86_64.manylinux1_x86_64.manylinux_2_12_x86_64.manylinux2010_x86_64.whl (596 kB)\n",
            "\u001b[K     |████████████████████████████████| 596 kB 46.7 MB/s \n",
            "\u001b[?25hCollecting tokenizers!=0.11.3,<0.13,>=0.11.1\n",
            "  Downloading tokenizers-0.12.1-cp37-cp37m-manylinux_2_12_x86_64.manylinux2010_x86_64.whl (6.6 MB)\n",
            "\u001b[K     |████████████████████████████████| 6.6 MB 55.6 MB/s \n",
            "\u001b[?25hRequirement already satisfied: regex!=2019.12.17 in /usr/local/lib/python3.7/dist-packages (from transformers<4.21.0,>=3.4.0->spacy_transformers) (2022.6.2)\n",
            "Requirement already satisfied: click<9.0.0,>=7.1.1 in /usr/local/lib/python3.7/dist-packages (from typer<0.5.0,>=0.3.0->spacy<4.0.0,>=3.1.3->spacy_transformers) (7.1.2)\n",
            "Requirement already satisfied: MarkupSafe>=0.23 in /usr/local/lib/python3.7/dist-packages (from jinja2->spacy<4.0.0,>=3.1.3->spacy_transformers) (2.0.1)\n",
            "Installing collected packages: pyyaml, tokenizers, huggingface-hub, transformers, spacy-alignments, spacy-transformers\n",
            "  Attempting uninstall: pyyaml\n",
            "    Found existing installation: PyYAML 3.13\n",
            "    Uninstalling PyYAML-3.13:\n",
            "      Successfully uninstalled PyYAML-3.13\n",
            "Successfully installed huggingface-hub-0.8.1 pyyaml-6.0 spacy-alignments-0.8.5 spacy-transformers-1.1.7 tokenizers-0.12.1 transformers-4.20.1\n",
            "Looking in indexes: https://pypi.org/simple, https://us-python.pkg.dev/colab-wheels/public/simple/\n",
            "Requirement already satisfied: spacy in /usr/local/lib/python3.7/dist-packages (3.4.1)\n",
            "Requirement already satisfied: jinja2 in /usr/local/lib/python3.7/dist-packages (from spacy) (2.11.3)\n",
            "Requirement already satisfied: thinc<8.2.0,>=8.1.0 in /usr/local/lib/python3.7/dist-packages (from spacy) (8.1.0)\n",
            "Requirement already satisfied: typing-extensions<4.2.0,>=3.7.4 in /usr/local/lib/python3.7/dist-packages (from spacy) (4.1.1)\n",
            "Requirement already satisfied: packaging>=20.0 in /usr/local/lib/python3.7/dist-packages (from spacy) (21.3)\n",
            "Requirement already satisfied: murmurhash<1.1.0,>=0.28.0 in /usr/local/lib/python3.7/dist-packages (from spacy) (1.0.7)\n",
            "Requirement already satisfied: tqdm<5.0.0,>=4.38.0 in /usr/local/lib/python3.7/dist-packages (from spacy) (4.64.0)\n",
            "Requirement already satisfied: catalogue<2.1.0,>=2.0.6 in /usr/local/lib/python3.7/dist-packages (from spacy) (2.0.8)\n",
            "Requirement already satisfied: spacy-loggers<2.0.0,>=1.0.0 in /usr/local/lib/python3.7/dist-packages (from spacy) (1.0.3)\n",
            "Requirement already satisfied: requests<3.0.0,>=2.13.0 in /usr/local/lib/python3.7/dist-packages (from spacy) (2.23.0)\n",
            "Requirement already satisfied: setuptools in /usr/local/lib/python3.7/dist-packages (from spacy) (57.4.0)\n",
            "Requirement already satisfied: pathy>=0.3.5 in /usr/local/lib/python3.7/dist-packages (from spacy) (0.6.2)\n",
            "Requirement already satisfied: spacy-legacy<3.1.0,>=3.0.9 in /usr/local/lib/python3.7/dist-packages (from spacy) (3.0.9)\n",
            "Requirement already satisfied: preshed<3.1.0,>=3.0.2 in /usr/local/lib/python3.7/dist-packages (from spacy) (3.0.6)\n",
            "Requirement already satisfied: wasabi<1.1.0,>=0.9.1 in /usr/local/lib/python3.7/dist-packages (from spacy) (0.10.1)\n",
            "Requirement already satisfied: srsly<3.0.0,>=2.4.3 in /usr/local/lib/python3.7/dist-packages (from spacy) (2.4.4)\n",
            "Requirement already satisfied: pydantic!=1.8,!=1.8.1,<1.10.0,>=1.7.4 in /usr/local/lib/python3.7/dist-packages (from spacy) (1.9.1)\n",
            "Requirement already satisfied: typer<0.5.0,>=0.3.0 in /usr/local/lib/python3.7/dist-packages (from spacy) (0.4.2)\n",
            "Requirement already satisfied: langcodes<4.0.0,>=3.2.0 in /usr/local/lib/python3.7/dist-packages (from spacy) (3.3.0)\n",
            "Requirement already satisfied: numpy>=1.15.0 in /usr/local/lib/python3.7/dist-packages (from spacy) (1.21.6)\n",
            "Requirement already satisfied: cymem<2.1.0,>=2.0.2 in /usr/local/lib/python3.7/dist-packages (from spacy) (2.0.6)\n",
            "Requirement already satisfied: zipp>=0.5 in /usr/local/lib/python3.7/dist-packages (from catalogue<2.1.0,>=2.0.6->spacy) (3.8.1)\n",
            "Requirement already satisfied: pyparsing!=3.0.5,>=2.0.2 in /usr/local/lib/python3.7/dist-packages (from packaging>=20.0->spacy) (3.0.9)\n",
            "Requirement already satisfied: smart-open<6.0.0,>=5.2.1 in /usr/local/lib/python3.7/dist-packages (from pathy>=0.3.5->spacy) (5.2.1)\n",
            "Requirement already satisfied: idna<3,>=2.5 in /usr/local/lib/python3.7/dist-packages (from requests<3.0.0,>=2.13.0->spacy) (2.10)\n",
            "Requirement already satisfied: certifi>=2017.4.17 in /usr/local/lib/python3.7/dist-packages (from requests<3.0.0,>=2.13.0->spacy) (2022.6.15)\n",
            "Requirement already satisfied: chardet<4,>=3.0.2 in /usr/local/lib/python3.7/dist-packages (from requests<3.0.0,>=2.13.0->spacy) (3.0.4)\n",
            "Requirement already satisfied: urllib3!=1.25.0,!=1.25.1,<1.26,>=1.21.1 in /usr/local/lib/python3.7/dist-packages (from requests<3.0.0,>=2.13.0->spacy) (1.24.3)\n",
            "Requirement already satisfied: blis<0.8.0,>=0.7.8 in /usr/local/lib/python3.7/dist-packages (from thinc<8.2.0,>=8.1.0->spacy) (0.7.8)\n",
            "Requirement already satisfied: click<9.0.0,>=7.1.1 in /usr/local/lib/python3.7/dist-packages (from typer<0.5.0,>=0.3.0->spacy) (7.1.2)\n",
            "Requirement already satisfied: MarkupSafe>=0.23 in /usr/local/lib/python3.7/dist-packages (from jinja2->spacy) (2.0.1)\n"
          ]
        }
      ]
    },
    {
      "cell_type": "code",
      "source": [
        "import spacy\n",
        "from spacy.tokens import DocBin\n",
        "from tqdm import tqdm"
      ],
      "metadata": {
        "id": "eU8LSmFZuryN"
      },
      "execution_count": 3,
      "outputs": []
    },
    {
      "cell_type": "code",
      "source": [
        "!git clone https://github.com/higher4comp/project.git"
      ],
      "metadata": {
        "colab": {
          "base_uri": "https://localhost:8080/"
        },
        "id": "Daez93NkvpoS",
        "outputId": "71fe466d-751f-473d-8a22-ab1f6dac03e0"
      },
      "execution_count": 4,
      "outputs": [
        {
          "output_type": "stream",
          "name": "stdout",
          "text": [
            "Cloning into 'project'...\n",
            "remote: Enumerating objects: 98, done.\u001b[K\n",
            "remote: Total 98 (delta 0), reused 0 (delta 0), pack-reused 98\u001b[K\n",
            "Unpacking objects: 100% (98/98), done.\n"
          ]
        }
      ]
    },
    {
      "cell_type": "code",
      "source": [
        "%cd /content/project/\n",
        "!git pull"
      ],
      "metadata": {
        "colab": {
          "base_uri": "https://localhost:8080/"
        },
        "id": "-nVPxSN3vpxu",
        "outputId": "ea0a32be-34bf-4ecf-f485-112e8e3d0459"
      },
      "execution_count": 5,
      "outputs": [
        {
          "output_type": "stream",
          "name": "stdout",
          "text": [
            "/content/project\n",
            "Already up to date.\n"
          ]
        }
      ]
    },
    {
      "cell_type": "code",
      "source": [
        "import json\n",
        "cv_data = json.load(open('/content/project/annotation/final_resumes.json','r'))"
      ],
      "metadata": {
        "id": "l0MMo9Havp6Y"
      },
      "execution_count": 6,
      "outputs": []
    },
    {
      "cell_type": "code",
      "source": [
        "!python -m spacy init fill-config /content/project/base_config.cfg config.cfg"
      ],
      "metadata": {
        "colab": {
          "base_uri": "https://localhost:8080/"
        },
        "id": "Hstlg6IGvqCq",
        "outputId": "97394d05-b77b-4c6f-afd2-6a5b645b638e"
      },
      "execution_count": 7,
      "outputs": [
        {
          "output_type": "stream",
          "name": "stdout",
          "text": [
            "\u001b[38;5;2m✔ Auto-filled config with all values\u001b[0m\n",
            "\u001b[38;5;2m✔ Saved config\u001b[0m\n",
            "config.cfg\n",
            "You can now add your data and train your pipeline:\n",
            "python -m spacy train config.cfg --paths.train ./train.spacy --paths.dev ./dev.spacy\n"
          ]
        }
      ]
    },
    {
      "cell_type": "code",
      "source": [
        "def get_spacy_doc(file, data):\n",
        "  nlp=spacy.blank('en')\n",
        "  db=DocBin()\n",
        "\n",
        "  for item in data:\n",
        "    text = item['text']\n",
        "    doc=nlp.make_doc(text)\n",
        "    annot=item['label']\n",
        "\n",
        "    \n",
        "    ents=[]\n",
        "    entity_indices=[]\n",
        "\n",
        "    for start, end, label in annot:\n",
        "      skip_entity=False\n",
        "      for idx in range(start, end):\n",
        "        if idx in entity_indices:\n",
        "          skip_entity=True\n",
        "          break\n",
        "      if skip_entity==True:\n",
        "         continue\n",
        "        \n",
        "      entity_indices = entity_indices + list(range(start, end))\n",
        "\n",
        "      try:\n",
        "        span=doc.char_span(start,end,label=label,alignment_mode='contract')\n",
        "      except:\n",
        "        continue\n",
        "        \n",
        "      if span is None:\n",
        "        err_data=str([start,end]) + \"     \" + str(text) + \"\\n\"\n",
        "        file.write(err_data)\n",
        "        \n",
        "      else:\n",
        "        ents.append(span)\n",
        "\n",
        "    try:\n",
        "        doc.ents=ents\n",
        "        db.add(doc)\n",
        "    except:\n",
        "      pass\n",
        "\n",
        "\n",
        "  return db"
      ],
      "metadata": {
        "id": "LYYroEmUvwqX"
      },
      "execution_count": 8,
      "outputs": []
    },
    {
      "cell_type": "code",
      "source": [
        "from sklearn.model_selection import train_test_split\n",
        "train, test = train_test_split(cv_data, test_size=0.3)"
      ],
      "metadata": {
        "id": "MgAau1mlvwvo"
      },
      "execution_count": 9,
      "outputs": []
    },
    {
      "cell_type": "code",
      "source": [
        "file = open('error.txt', 'w')\n",
        "db = get_spacy_doc(file, train)\n",
        "db.to_disk('train_data.spacy')\n",
        "\n",
        "db = get_spacy_doc(file, test)\n",
        "db.to_disk('test_data.spacy') \n",
        "\n",
        "file.close()"
      ],
      "metadata": {
        "id": "QCdPRR8bvw0p"
      },
      "execution_count": 10,
      "outputs": []
    },
    {
      "cell_type": "code",
      "source": [
        "! python -m spacy train /content/project/config.cfg --output ./output --paths.train ./train_data.spacy --paths.dev ./test_data.spacy --gpu-id 0"
      ],
      "metadata": {
        "colab": {
          "base_uri": "https://localhost:8080/"
        },
        "id": "AbtxNMVcvw6C",
        "outputId": "1bbec2b8-54ea-4fb3-f1f4-7b30404d138b"
      },
      "execution_count": 11,
      "outputs": [
        {
          "output_type": "stream",
          "name": "stdout",
          "text": [
            "\u001b[38;5;2m✔ Created output directory: output\u001b[0m\n",
            "\u001b[38;5;4mℹ Saving to output directory: output\u001b[0m\n",
            "\u001b[38;5;4mℹ Using GPU: 0\u001b[0m\n",
            "\u001b[1m\n",
            "=========================== Initializing pipeline ===========================\u001b[0m\n",
            "[2022-08-09 18:05:49,346] [INFO] Set up nlp object from config\n",
            "[2022-08-09 18:05:49,356] [INFO] Pipeline: ['transformer', 'ner']\n",
            "[2022-08-09 18:05:49,360] [INFO] Created vocabulary\n",
            "[2022-08-09 18:05:49,361] [INFO] Finished initializing nlp object\n",
            "Downloading: 100% 481/481 [00:00<00:00, 467kB/s]\n",
            "Downloading: 100% 878k/878k [00:01<00:00, 674kB/s] \n",
            "Downloading: 100% 446k/446k [00:01<00:00, 411kB/s]\n",
            "Downloading: 100% 1.29M/1.29M [00:01<00:00, 1.01MB/s]\n",
            "Downloading: 100% 478M/478M [00:06<00:00, 74.3MB/s]\n",
            "Some weights of the model checkpoint at roberta-base were not used when initializing RobertaModel: ['lm_head.layer_norm.bias', 'lm_head.dense.weight', 'lm_head.layer_norm.weight', 'lm_head.dense.bias', 'lm_head.decoder.weight', 'lm_head.bias']\n",
            "- This IS expected if you are initializing RobertaModel from the checkpoint of a model trained on another task or with another architecture (e.g. initializing a BertForSequenceClassification model from a BertForPreTraining model).\n",
            "- This IS NOT expected if you are initializing RobertaModel from the checkpoint of a model that you expect to be exactly identical (initializing a BertForSequenceClassification model from a BertForSequenceClassification model).\n",
            "[2022-08-09 18:06:27,261] [INFO] Initialized pipeline components: ['transformer', 'ner']\n",
            "\u001b[38;5;2m✔ Initialized pipeline\u001b[0m\n",
            "\u001b[1m\n",
            "============================= Training pipeline =============================\u001b[0m\n",
            "\u001b[38;5;4mℹ Pipeline: ['transformer', 'ner']\u001b[0m\n",
            "\u001b[38;5;4mℹ Initial learn rate: 0.0\u001b[0m\n",
            "E    #       LOSS TRANS...  LOSS NER  ENTS_F  ENTS_P  ENTS_R  SCORE \n",
            "---  ------  -------------  --------  ------  ------  ------  ------\n",
            "  0       0       85110.86   1286.53    0.00    0.00    0.00    0.00\n",
            "  8     200     3057145.00  127219.96    4.94   10.06    3.28    0.05\n",
            " 16     400       90168.76  59039.96   41.84   35.20   51.59    0.42\n",
            " 25     600      126797.97  49109.80   46.36   39.55   55.99    0.46\n",
            " 33     800       70904.67  41109.91   46.38   37.41   61.00    0.46\n",
            " 41    1000       13950.50  38079.31   47.84   38.98   61.92    0.48\n",
            " 50    1200       14837.10  36540.95   48.08   41.57   57.01    0.48\n",
            " 58    1400        2790.50  34765.61   47.61   41.13   56.50    0.48\n",
            " 66    1600        2553.53  34712.54   48.68   40.32   61.41    0.49\n",
            " 75    1800        5792.11  34804.89   49.78   43.47   58.24    0.50\n",
            " 83    2000        2941.41  34042.50   47.65   40.33   58.24    0.48\n",
            "\u001b[38;5;2m✔ Saved pipeline to output directory\u001b[0m\n",
            "output/model-last\n"
          ]
        }
      ]
    },
    {
      "cell_type": "code",
      "source": [
        "nlp = spacy.load('/content/project/output/model-best')"
      ],
      "metadata": {
        "id": "cG8NLrfwv85s"
      },
      "execution_count": 12,
      "outputs": []
    },
    {
      "cell_type": "code",
      "source": [
        "!pip install PyMuPDF"
      ],
      "metadata": {
        "colab": {
          "base_uri": "https://localhost:8080/"
        },
        "id": "g3-uvuIiv-u1",
        "outputId": "9a7a6234-f501-425c-b74c-79041e684034"
      },
      "execution_count": 13,
      "outputs": [
        {
          "output_type": "stream",
          "name": "stdout",
          "text": [
            "Looking in indexes: https://pypi.org/simple, https://us-python.pkg.dev/colab-wheels/public/simple/\n",
            "Collecting PyMuPDF\n",
            "  Downloading PyMuPDF-1.20.1-cp37-cp37m-manylinux_2_17_x86_64.manylinux2014_x86_64.whl (8.8 MB)\n",
            "\u001b[K     |████████████████████████████████| 8.8 MB 19.3 MB/s \n",
            "\u001b[?25hInstalling collected packages: PyMuPDF\n",
            "Successfully installed PyMuPDF-1.20.1\n"
          ]
        }
      ]
    },
    {
      "cell_type": "code",
      "source": [
        "import sys, fitz"
      ],
      "metadata": {
        "id": "AJWIUKd4wAVd"
      },
      "execution_count": 14,
      "outputs": []
    },
    {
      "cell_type": "code",
      "source": [
        "for x in range(1,11):\n",
        "  fname='/content/project/resume_test/'+str(x)+'.pdf'\n",
        "  doc=fitz.open(fname)\n",
        "  print('resume num '+str(x)+' test')\n",
        "  text=\" \"\n",
        "  for page in doc:\n",
        "    text=text+str(page.get_text())\n",
        "  text=text.strip()\n",
        "  text=' '.join(text.split())\n",
        "  doc=nlp(text)\n",
        "  for ent in doc.ents:\n",
        "    print(ent.text, \" ->>>>>> \", ent.label_)\n",
        "  print('\\n')"
      ],
      "metadata": {
        "colab": {
          "base_uri": "https://localhost:8080/"
        },
        "id": "yihGLmWqwCGE",
        "outputId": "110d73e7-2746-48bc-8fa1-5c4aa8801671"
      },
      "execution_count": 15,
      "outputs": [
        {
          "output_type": "stream",
          "name": "stdout",
          "text": [
            "resume num 1 test\n",
            "Java Developer Nsoft technologies - Pune, Maharashtra May 2016 to Present  ->>>>>>  work experience\n",
            "BE in  ->>>>>>  major\n",
            "Information Technology University  ->>>>>>  major\n",
            "c++  ->>>>>>  skill\n",
            "Core Java  ->>>>>>  skill\n",
            "hibernate  ->>>>>>  skill\n",
            "spring  ->>>>>>  skill\n",
            "Jsp  ->>>>>>  skill\n",
            "Servlet  ->>>>>>  skill\n",
            "mysql  ->>>>>>  skill\n",
            "Web Services  ->>>>>>  skill\n",
            "spring mvc  ->>>>>>  skill\n",
            "Ejb  ->>>>>>  skill\n",
            "jms Certifications/Licenses International Journal of Research in information Technology  ->>>>>>  skill\n",
            "C++  ->>>>>>  skill\n",
            "Java  ->>>>>>  skill\n",
            "Html  ->>>>>>  skill\n",
            "Jsp  ->>>>>>  skill\n",
            "Servlet  ->>>>>>  skill\n",
            "Spring mvc  ->>>>>>  skill\n",
            "Hibernet  ->>>>>>  skill\n",
            "Spring Web  ->>>>>>  skill\n",
            "Tomcat 7.0  ->>>>>>  skill\n",
            "Windows 7  ->>>>>>  skill\n",
            "Windows8  ->>>>>>  skill\n",
            "Unix  ->>>>>>  skill\n",
            "Eclipse  ->>>>>>  skill\n",
            "NetBean  ->>>>>>  skill\n",
            "\n",
            "\n",
            "resume num 2 test\n",
            "Java developer  ->>>>>>  ability\n",
            "Java j2ee senior developer Senior Java Developer Mepra software  ->>>>>>  ability\n",
            "M.E Anna university  ->>>>>>  college\n",
            "Java  ->>>>>>  skill\n",
            "J2Ee  ->>>>>>  skill\n",
            "Spring  ->>>>>>  skill\n",
            "Hibernate  ->>>>>>  skill\n",
            "Servlets  ->>>>>>  skill\n",
            "Ejb  ->>>>>>  skill\n",
            "JSP HTML CSS  ->>>>>>  skill\n",
            "Web services  ->>>>>>  skill\n",
            "Mysql  ->>>>>>  skill\n",
            "Weblogic  ->>>>>>  skill\n",
            "Unix  ->>>>>>  skill\n",
            "Ajax  ->>>>>>  skill\n",
            "Jquery  ->>>>>>  skill\n",
            "Angularjs  ->>>>>>  skill\n",
            "AEM  ->>>>>>  skill\n",
            "\n",
            "\n",
            "resume num 3 test\n",
            "Java Developer RED APPLE SOFTECH PVT LTD - Noida, Uttar Pradesh November 2016 to April 2017  ->>>>>>  work experience\n",
            "I have worked in red apple softech as java developer trainee  ->>>>>>  work experience\n",
            "B.E Technocrats institute of technology &science 2011 to 2015 BOARD/ UNIVERSITY C.B.S.E ST Paul Sec School  ->>>>>>  degree\n",
            "C.B.S.E ST Joshep public school  ->>>>>>  education\n",
            "Core Java  ->>>>>>  skill\n",
            "jdbc  ->>>>>>  skill\n",
            "Servlet  ->>>>>>  skill\n",
            "Jsp  ->>>>>>  skill\n",
            "sql  ->>>>>>  skill\n",
            "HTML  ->>>>>>  skill\n",
            "hibernate  ->>>>>>  skill\n",
            "javascript  ->>>>>>  skill\n",
            "EJB  ->>>>>>  skill\n",
            "Core Java  ->>>>>>  skill\n",
            "• Programming Languages  ->>>>>>  work experience\n",
            "Core Java  ->>>>>>  skill\n",
            "JDBC  ->>>>>>  skill\n",
            "Servlet  ->>>>>>  skill\n",
            "JSP  ->>>>>>  skill\n",
            "Hibernate  ->>>>>>  skill\n",
            "• Subject of  ->>>>>>  work experience\n",
            "Manual Testing  ->>>>>>  skill\n",
            "SQL  ->>>>>>  skill\n",
            "HTML  ->>>>>>  skill\n",
            "• In an  ->>>>>>  work experience\n",
            "• Customers pay  ->>>>>>  work experience\n",
            "\n",
            "\n",
            "resume num 4 test\n",
            "Java Developer  ->>>>>>  ability\n",
            "B.tech  ->>>>>>  degree\n",
            "Computer Science  ->>>>>>  major\n",
            "Markandeshwar University Mullana  ->>>>>>  college\n",
            "Java  ->>>>>>  skill\n",
            "JavaScript  ->>>>>>  skill\n",
            "JQuery  ->>>>>>  skill\n",
            "NetSuite  ->>>>>>  skill\n",
            "Node.js  ->>>>>>  skill\n",
            "Java Developer  ->>>>>>  ability\n",
            "\n",
            "\n",
            "resume num 5 test\n",
            "Java Developer Trainee NCS Computech ltd - Indore, Madhya Pradesh January 2017 to June  ->>>>>>  work experience\n",
            "junior php developer  ->>>>>>  work experience\n",
            "MCA IPS ACADEMY Indore  ->>>>>>  education\n",
            "RMS COLLEGE OF EDUCATION Bhanpura, Madhya Pradesh 2015 S.S.C. ALPHA ENGLISH SCHOOL Sagar  ->>>>>>  education\n",
            "Javascript  ->>>>>>  skill\n",
            "html  ->>>>>>  skill\n",
            "sql  ->>>>>>  skill\n",
            "hardworking  ->>>>>>  ability\n",
            "sincere  ->>>>>>  ability\n",
            "\n",
            "\n",
            "resume num 6 test\n",
            "Java Developer Wipro Technologies - Bangalore, Karnataka February 2015 to August 2015  ->>>>>>  work experience\n",
            "• PG-  ->>>>>>  work experience\n",
            "B. Tech.  ->>>>>>  degree\n",
            "Information Technology  ->>>>>>  major\n",
            "Rajasthan Technical University  ->>>>>>  college\n",
            "Apache  ->>>>>>  skill\n",
            "CSS  ->>>>>>  skill\n",
            "Eclipse  ->>>>>>  skill\n",
            "Git  ->>>>>>  skill\n",
            "HTML5  ->>>>>>  skill\n",
            "Core Java  ->>>>>>  skill\n",
            "J2EE  ->>>>>>  skill\n",
            "Spring  ->>>>>>  skill\n",
            "RESTful Web  ->>>>>>  skill\n",
            "Jboss  ->>>>>>  skill\n",
            "Apache Tomcat  ->>>>>>  skill\n",
            "Hibernate  ->>>>>>  skill\n",
            "MyBatis  ->>>>>>  skill\n",
            "PL/SQL  ->>>>>>  skill\n",
            "HTML5  ->>>>>>  skill\n",
            "CSS  ->>>>>>  skill\n",
            "Jsp  ->>>>>>  skill\n",
            "JQuery  ->>>>>>  skill\n",
            "Angular JS  ->>>>>>  skill\n",
            "Java  ->>>>>>  skill\n",
            "Java Script  ->>>>>>  skill\n",
            "SQL Tools  ->>>>>>  skill\n",
            "Maven  ->>>>>>  skill\n",
            "Git-Hub  ->>>>>>  skill\n",
            "SVN  ->>>>>>  skill\n",
            "Eclipse  ->>>>>>  skill\n",
            "MySQL Workbench  ->>>>>>  skill\n",
            "Linux  ->>>>>>  skill\n",
            "Windows  ->>>>>>  skill\n",
            "\n",
            "\n",
            "resume num 7 test\n",
            "Java  ->>>>>>  skill\n",
            "Unix  ->>>>>>  skill\n",
            "Python  ->>>>>>  skill\n",
            "CORBA Responsibilities  ->>>>>>  skill\n",
            "• Analyzing and gathering the requirements from customer in case of modification to the existing business logic as per customer specifications  ->>>>>>  work experience\n",
            "• Developing the modules  ->>>>>>  work experience\n",
            "• Developed small business logics  ->>>>>>  work experience\n",
            "Java  ->>>>>>  skill\n",
            "Servlets  ->>>>>>  skill\n",
            "MQ  ->>>>>>  skill\n",
            "• Unit testing of the developed module  ->>>>>>  work experience\n",
            "• Testing and Maintenance of existing AI system and Integrations  ->>>>>>  work experience\n",
            "• Working knowledge in UNIX and writing scripts using Shell, Python  ->>>>>>  work experience\n",
            "• Experience of  ->>>>>>  work experience\n",
            "• Strong analytical, problem solving and debugging skills  ->>>>>>  work experience\n",
            "Log Analysis with Apache Spark  ->>>>>>  work experience\n",
            "Hadoop Developer  ->>>>>>  work experience\n",
            "Apache Spark  ->>>>>>  skill\n",
            "Apache Hadoop  ->>>>>>  skill\n",
            "Python Responsibilities  ->>>>>>  skill\n",
            "• Import the  ->>>>>>  work experience\n",
            "• Log data  ->>>>>>  work experience\n",
            "• Analysing data  ->>>>>>  work experience\n",
            "• Bring some  ->>>>>>  work experience\n",
            "Retail Data Analysis Role  ->>>>>>  work experience\n",
            "Hadoop  ->>>>>>  work experience\n",
            "Apache Hadoop  ->>>>>>  skill\n",
            "MySQL  ->>>>>>  skill\n",
            "Pig  ->>>>>>  skill\n",
            "Hive Responsibilities  ->>>>>>  skill\n",
            "• Loading the data from  ->>>>>>  work experience\n",
            "• Developed Pig queries to analyse the data  ->>>>>>  work experience\n",
            "• Created Hive scripts as per business requirements and push the data to Hive Table  ->>>>>>  work experience\n",
            "Java Developer  ->>>>>>  ability\n",
            "Application Integration  ->>>>>>  work experience\n",
            "Java Developer  ->>>>>>  ability\n",
            "B.E.  ->>>>>>  degree\n",
            "Mumbai University Bandra  ->>>>>>  college\n",
            "Apache  ->>>>>>  skill\n",
            "APACHE HADOOP HDFS  ->>>>>>  skill\n",
            "APACHE HADOOP SQOOP  ->>>>>>  skill\n",
            "CORBA  ->>>>>>  skill\n",
            "Hadoop  ->>>>>>  skill\n",
            "Hadoop Ecosystem  ->>>>>>  skill\n",
            "HDFS  ->>>>>>  skill\n",
            "MapReduce  ->>>>>>  skill\n",
            "Hive  ->>>>>>  skill\n",
            "Pig  ->>>>>>  skill\n",
            "Sqoop  ->>>>>>  skill\n",
            "HBase  ->>>>>>  skill\n",
            "Flume  ->>>>>>  skill\n",
            "ZooKeeper  ->>>>>>  skill\n",
            "HBase  ->>>>>>  skill\n",
            "Hive  ->>>>>>  skill\n",
            "Oracle  ->>>>>>  skill\n",
            "CORBA  ->>>>>>  skill\n",
            "IBM MQ Operating  ->>>>>>  skill\n",
            "Linux Language Java  ->>>>>>  skill\n",
            "Python  ->>>>>>  skill\n",
            "Apache Hadoop  ->>>>>>  skill\n",
            "Apache Spark  ->>>>>>  skill\n",
            "XML  ->>>>>>  skill\n",
            "JSP -Servlet,  ->>>>>>  skill\n",
            "Apache ant  ->>>>>>  skill\n",
            "HTML  ->>>>>>  skill\n",
            "CSS  ->>>>>>  skill\n",
            "Web services  ->>>>>>  skill\n",
            "Apache POI  ->>>>>>  skill\n",
            "\n",
            "\n",
            "resume num 8 test\n",
            "Java Developer AllocateSoftwareIndia May 2017 to Present Java Developer  ->>>>>>  work experience\n",
            "Information Technology  ->>>>>>  major\n",
            "Cummins College Of Engineering for Women  ->>>>>>  college\n",
            "\n",
            "\n",
            "resume num 9 test\n",
            "java developer  ->>>>>>  work experience\n",
            "Java Developer jaieespy techkart private limited - Noida, Uttar Pradesh March 2017 to June 2017  ->>>>>>  work experience\n",
            "Masters of Computer Application in UPTU Feroze Gandhi Institute of Engineering and Technology  ->>>>>>  degree\n",
            "…] I  ->>>>>>  work experience\n",
            "Masters of Computer Application  ->>>>>>  major\n",
            "Feroze Gandhi Institute of Engineering and Technology  ->>>>>>  college\n",
            "APKT University  ->>>>>>  college\n",
            "Bachelor  ->>>>>>  degree\n",
            "Computer Application  ->>>>>>  major\n",
            "RIT Mawana Khurd Meerut  ->>>>>>  college\n",
            "Java  ->>>>>>  skill\n",
            "J2ee  ->>>>>>  skill\n",
            "C  ->>>>>>  skill\n",
            "C++  ->>>>>>  skill\n",
            "OOPS  ->>>>>>  skill\n",
            "Data Structure  ->>>>>>  skill\n",
            "Oracle Database  ->>>>>>  skill\n",
            "mysql Database  ->>>>>>  skill\n",
            "Java  ->>>>>>  skill\n",
            "J2EE  ->>>>>>  skill\n",
            "SDLC  ->>>>>>  skill\n",
            "Oracle Database  ->>>>>>  skill\n",
            "MySQL  ->>>>>>  skill\n",
            "Eclipse  ->>>>>>  skill\n",
            "MyEclipse  ->>>>>>  skill\n",
            "NetBeans  ->>>>>>  skill\n",
            "Java language  ->>>>>>  skill\n",
            "Applications Web Based and Desktop Applications  ->>>>>>  work experience\n",
            "Oops Concept  ->>>>>>  skill\n",
            "String  ->>>>>>  skill\n",
            "Exception handling  ->>>>>>  skill\n",
            "MultiThreading  ->>>>>>  skill\n",
            "I/O  ->>>>>>  skill\n",
            "collection  ->>>>>>  skill\n",
            "JDBC JEE  ->>>>>>  skill\n",
            "Servlet  ->>>>>>  skill\n",
            "JSP  ->>>>>>  skill\n",
            "Hibernate  ->>>>>>  skill\n",
            "Spring  ->>>>>>  skill\n",
            "structs  ->>>>>>  skill\n",
            "Eclipse  ->>>>>>  skill\n",
            "MyEclipse  ->>>>>>  skill\n",
            "Tomcat  ->>>>>>  skill\n",
            "Weblogic12C  ->>>>>>  skill\n",
            "DataBase  ->>>>>>  skill\n",
            "MySql  ->>>>>>  skill\n",
            "NetBeans  ->>>>>>  skill\n",
            "Computer Application  ->>>>>>  major\n",
            "Feroze Gandhi Institute of Engineering and Technology  ->>>>>>  college\n",
            "Computer Application  ->>>>>>  major\n",
            "RIT Mawana Meerut  ->>>>>>  college\n",
            "“Medi Guide  ->>>>>>  work experience\n",
            "” is to  ->>>>>>  work experience\n",
            "MS WINDOWS  ->>>>>>  skill\n",
            "…] User  ->>>>>>  work experience\n",
            "HTML  ->>>>>>  skill\n",
            "CSS  ->>>>>>  skill\n",
            "JavaScript Programming  ->>>>>>  skill\n",
            "Java Web Applications  ->>>>>>  skill\n",
            "Servlets  ->>>>>>  skill\n",
            "JSP  ->>>>>>  skill\n",
            "JDBC IDE  ->>>>>>  skill\n",
            "My Eclipse 6.0  ->>>>>>  skill\n",
            "NetBeans IDE 8.10  ->>>>>>  skill\n",
            "Oracle 10g Server Deployment  ->>>>>>  skill\n",
            "Tomcat 8.x  ->>>>>>  skill\n",
            "MS WINDOWS  ->>>>>>  skill\n",
            "…]  ->>>>>>  work experience\n",
            "HTML  ->>>>>>  skill\n",
            "CSS  ->>>>>>  skill\n",
            "JavaScript  ->>>>>>  skill\n",
            "Java  ->>>>>>  skill\n",
            "Servlets  ->>>>>>  skill\n",
            "JSP  ->>>>>>  skill\n",
            "JDBC IDE  ->>>>>>  skill\n",
            "Eclipse Mars 2.0  ->>>>>>  skill\n",
            "MySql 5.5  ->>>>>>  skill\n",
            "Tomcat 8.x  ->>>>>>  skill\n",
            "2017-june 2017 Description Overall this project of ours is being developed to help the students as well as staff of library to maintain the library in the best way possible and also reduce the human efforts. With this computerized system there will be no loss of book record or member record which generally happens when a non computerized Technology OS : MS WINDOWS […] User  ->>>>>>  age\n",
            "HTML  ->>>>>>  skill\n",
            "CSS  ->>>>>>  skill\n",
            "JavaScript Programming Language  ->>>>>>  skill\n",
            "Java Web Applications  ->>>>>>  skill\n",
            "Servlets  ->>>>>>  skill\n",
            "JSP  ->>>>>>  skill\n",
            "JDBC IDE  ->>>>>>  skill\n",
            "MySql 5.5  ->>>>>>  skill\n",
            "Tomcat 8.x  ->>>>>>  skill\n",
            "– JANUARY 2017  ->>>>>>  work experience\n",
            "core java  ->>>>>>  skill\n",
            "servlet  ->>>>>>  skill\n",
            "jsp  ->>>>>>  skill\n",
            "…] Nationality  ->>>>>>  work experience\n",
            "\n",
            "\n",
            "resume num 10 test\n",
            "Java Developer  ->>>>>>  work experience\n",
            "Axelor Technologies India Pvt  ->>>>>>  work experience\n",
            "Java Developer  ->>>>>>  ability\n",
            "Engineer in  ->>>>>>  major\n",
            "Engineering and Technology  ->>>>>>  major\n",
            "Core Java  ->>>>>>  skill\n",
            "J2Ee  ->>>>>>  skill\n",
            "jpa  ->>>>>>  skill\n",
            "Hibernate  ->>>>>>  skill\n",
            "Mvc  ->>>>>>  skill\n",
            "Maven  ->>>>>>  skill\n",
            "postgresql  ->>>>>>  skill\n",
            "MySql  ->>>>>>  skill\n",
            "JavaFX  ->>>>>>  skill\n",
            "\n",
            "\n"
          ]
        }
      ]
    }
  ]
}